{
 "metadata": {
  "language_info": {
   "codemirror_mode": {
    "name": "ipython",
    "version": 3
   },
   "file_extension": ".py",
   "mimetype": "text/x-python",
   "name": "python",
   "nbconvert_exporter": "python",
   "pygments_lexer": "ipython3",
   "version": "3.8.5-final"
  },
  "orig_nbformat": 2,
  "kernelspec": {
   "name": "python3",
   "display_name": "Python 3"
  }
 },
 "nbformat": 4,
 "nbformat_minor": 2,
 "cells": [
  {
   "source": [
    "# Bootcamp Ciência de Dados - IGTI"
   ],
   "cell_type": "markdown",
   "metadata": {}
  },
  {
   "source": [
    "Esse notebook se refere ao segundo módulo do bootcamp ciência de dados e tem como objetivo responder ao segundo trabalho prático. \n",
    "\n",
    "* Originalmente o trabalho proposto utilizava o mysql e foi adaptado para o MongoDB"
   ],
   "cell_type": "markdown",
   "metadata": {}
  },
  {
   "source": [
    "## Módulo 2 - Coleta e obtenção de dados"
   ],
   "cell_type": "markdown",
   "metadata": {}
  },
  {
   "cell_type": "code",
   "execution_count": 332,
   "metadata": {},
   "outputs": [],
   "source": [
    "from pymongo import MongoClient\n",
    "import csv\n",
    "from glob import glob\n",
    "import pandas as pd\n",
    "import json"
   ]
  },
  {
   "source": [
    "### Criando o Database e Conectando ao MongoDB"
   ],
   "cell_type": "markdown",
   "metadata": {}
  },
  {
   "cell_type": "code",
   "execution_count": 227,
   "metadata": {},
   "outputs": [],
   "source": [
    "mongo_client=MongoClient() \n",
    "db = mongo_client['bootcamp']\n",
    "db.segment.drop()"
   ]
  },
  {
   "cell_type": "code",
   "execution_count": null,
   "metadata": {},
   "outputs": [],
   "source": []
  },
  {
   "source": [
    "### Carga individualizada dos arquivos .csv locais"
   ],
   "cell_type": "markdown",
   "metadata": {}
  },
  {
   "cell_type": "code",
   "execution_count": 228,
   "metadata": {},
   "outputs": [],
   "source": [
    "with open('imoveis.csv', 'r', encoding=\"latin-1\") as arquivo_csv:\n",
    "    leitor = csv.DictReader(arquivo_csv)\n",
    "    for coluna in leitor:\n",
    "        db.imoveis.insert(coluna)"
   ]
  },
  {
   "cell_type": "code",
   "execution_count": 229,
   "metadata": {},
   "outputs": [],
   "source": [
    "with open('caracteristicasgerais.csv', 'r', encoding=\"latin-1\") as arquivo_csv:\n",
    "    leitor = csv.DictReader(arquivo_csv)\n",
    "    for coluna in leitor:\n",
    "        db.caracteristicasgerais.insert(coluna)"
   ]
  },
  {
   "cell_type": "code",
   "execution_count": 230,
   "metadata": {},
   "outputs": [],
   "source": [
    "with open('caracteristicageralimovel.csv', 'r', encoding=\"latin-1\") as arquivo_csv:\n",
    "    leitor = csv.DictReader(arquivo_csv)\n",
    "    for coluna in leitor:\n",
    "        db.caracteristicageralimovel.insert(coluna)"
   ]
  },
  {
   "cell_type": "code",
   "execution_count": 231,
   "metadata": {},
   "outputs": [],
   "source": [
    "with open('cidades.csv', 'r', encoding=\"latin-1\") as arquivo_csv:\n",
    "    leitor = csv.DictReader(arquivo_csv)\n",
    "    for coluna in leitor:\n",
    "        db.cidade.insert(coluna)"
   ]
  },
  {
   "cell_type": "code",
   "execution_count": 351,
   "metadata": {},
   "outputs": [],
   "source": [
    "with open('estados.csv', 'r', encoding=\"latin-1\") as arquivo_csv:\n",
    "    leitor = csv.DictReader(arquivo_csv, delimiter=';')\n",
    "    for coluna in leitor: \n",
    "        db.estado.insert(coluna)"
   ]
  },
  {
   "source": [
    "### Consultas para responder as questões\n"
   ],
   "cell_type": "markdown",
   "metadata": {}
  },
  {
   "cell_type": "code",
   "execution_count": 350,
   "metadata": {},
   "outputs": [
    {
     "output_type": "execute_result",
     "data": {
      "text/plain": [
       "52"
      ]
     },
     "metadata": {},
     "execution_count": 350
    }
   ],
   "source": [
    "#Q1. Quantos registros são retornados ao executar o seguinte comando sql no banco de dados após ter povoado a tabela de estados: SELECT * FROM estado WHERE NomeEstado like 'P%'\n",
    "\n",
    "db.cidade.find({$in: \"CodEstadoIBGE\": \"11\"}).count()"
   ]
  },
  {
   "cell_type": "code",
   "execution_count": null,
   "metadata": {},
   "outputs": [],
   "source": [
    "#Q2. Após executar todos os passos do enunciado do trabalho prático e ter povoado todas as tabelas do banco de dados, qual o total de registros da tabela ‘caracteristicasgerais’?"
   ]
  },
  {
   "cell_type": "code",
   "execution_count": null,
   "metadata": {},
   "outputs": [],
   "source": [
    "#Q3. Crie uma consulta sql para verificar a quantidade de imóveis cadastrados no estado de RS. Após executar esse sql, qual o valor retornado?\n"
   ]
  },
  {
   "cell_type": "code",
   "execution_count": null,
   "metadata": {},
   "outputs": [],
   "source": [
    "#Crie uma consulta sql para contar quantos estados possuem imóveis cadastrados em que o valor do IPTU é igual a R$ 0,00. Após executar esse sql, qual o valor retornado?"
   ]
  },
  {
   "cell_type": "code",
   "execution_count": null,
   "metadata": {},
   "outputs": [],
   "source": [
    "#Quantos registros foram inseridos na tabela ‘caracteristicageralimovel’? Crie um sql que realize a consulta."
   ]
  },
  {
   "cell_type": "code",
   "execution_count": null,
   "metadata": {},
   "outputs": [],
   "source": [
    "#Qual o número do registro do imóvel (coluna codRegistro) que possui o maior valor de condomínio? Crie um sql que realize a consulta."
   ]
  }
 ]
}